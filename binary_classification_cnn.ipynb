{
  "nbformat": 4,
  "nbformat_minor": 0,
  "metadata": {
    "colab": {
      "provenance": [],
      "gpuType": "T4"
    },
    "kernelspec": {
      "name": "python3",
      "display_name": "Python 3"
    },
    "language_info": {
      "name": "python"
    },
    "accelerator": "GPU"
  },
  "cells": [
    {
      "cell_type": "code",
      "execution_count": 2,
      "metadata": {
        "colab": {
          "base_uri": "https://localhost:8080/"
        },
        "id": "qc21z9WGIsBc",
        "outputId": "6a41cc8b-0270-4cd4-d061-3ce41eeaf4f0"
      },
      "outputs": [
        {
          "output_type": "stream",
          "name": "stdout",
          "text": [
            "fatal: destination path 'classificationbinary-new' already exists and is not an empty directory.\n"
          ]
        }
      ],
      "source": [
        "!git clone \"https://github.com/sg8517/classificationbinary-new.git\""
      ]
    },
    {
      "cell_type": "code",
      "source": [
        "import tensorflow as tf\n",
        "from keras.preprocessing.image import ImageDataGenerator"
      ],
      "metadata": {
        "id": "8zOFIRW-KPb7"
      },
      "execution_count": 4,
      "outputs": []
    },
    {
      "cell_type": "code",
      "source": [
        "tf.__version__"
      ],
      "metadata": {
        "colab": {
          "base_uri": "https://localhost:8080/",
          "height": 35
        },
        "id": "Lf8txDwMKuD-",
        "outputId": "467ac3cf-757f-441f-9890-31dee9227fbe"
      },
      "execution_count": 5,
      "outputs": [
        {
          "output_type": "execute_result",
          "data": {
            "text/plain": [
              "'2.14.0'"
            ],
            "application/vnd.google.colaboratory.intrinsic+json": {
              "type": "string"
            }
          },
          "metadata": {},
          "execution_count": 5
        }
      ]
    },
    {
      "cell_type": "code",
      "source": [
        "import pandas as pd"
      ],
      "metadata": {
        "id": "MRYjmzJmLscf"
      },
      "execution_count": 6,
      "outputs": []
    },
    {
      "cell_type": "code",
      "source": [
        "train_datagen = ImageDataGenerator(rescale = 1./255,\n",
        "                                   shear_range = 0.2,\n",
        "                                   zoom_range = 0.2,\n",
        "                                   horizontal_flip = True)\n",
        "\n",
        "training_set = train_datagen.flow_from_directory('/content/classificationbinary-new/data/training',\n",
        "                                                 target_size = (64, 64),\n",
        "                                                 batch_size = 32,\n",
        "                                                 class_mode = 'binary')\n"
      ],
      "metadata": {
        "colab": {
          "base_uri": "https://localhost:8080/"
        },
        "id": "TqRGWMJWLzPk",
        "outputId": "15f49ac5-ca95-4a05-c343-17ebf43005db"
      },
      "execution_count": 7,
      "outputs": [
        {
          "output_type": "stream",
          "name": "stdout",
          "text": [
            "Found 11 images belonging to 2 classes.\n"
          ]
        }
      ]
    },
    {
      "cell_type": "code",
      "source": [
        "test_datagen = ImageDataGenerator(rescale = 1./255)\n",
        "test_set = test_datagen.flow_from_directory('/content/classificationbinary-new/data/testing',\n",
        "                                            target_size = (64, 64),\n",
        "                                            batch_size = 32,\n",
        "                                            class_mode = 'binary')"
      ],
      "metadata": {
        "colab": {
          "base_uri": "https://localhost:8080/"
        },
        "id": "rqMNVba5MLja",
        "outputId": "9ab9547f-069a-462c-a226-fc10d94cd1b9"
      },
      "execution_count": 8,
      "outputs": [
        {
          "output_type": "stream",
          "name": "stdout",
          "text": [
            "Found 6 images belonging to 2 classes.\n"
          ]
        }
      ]
    },
    {
      "cell_type": "code",
      "source": [
        "cnn = tf.keras.models.Sequential()"
      ],
      "metadata": {
        "id": "2mcA8Y9gMWA4"
      },
      "execution_count": 9,
      "outputs": []
    },
    {
      "cell_type": "code",
      "source": [
        "cnn.add(tf.keras.layers.Conv2D(filters=32, kernel_size=3, activation='relu',\n",
        "                               input_shape=[64, 64, 3]))"
      ],
      "metadata": {
        "id": "QAk2Qd0dMbSd"
      },
      "execution_count": 10,
      "outputs": []
    },
    {
      "cell_type": "code",
      "source": [
        "cnn.add(tf.keras.layers.MaxPool2D(pool_size=2, strides=2))"
      ],
      "metadata": {
        "id": "6KGXzCg3Mfor"
      },
      "execution_count": 11,
      "outputs": []
    },
    {
      "cell_type": "code",
      "source": [
        "cnn.add(tf.keras.layers.Conv2D(filters=32, kernel_size=3, activation='relu'))\n",
        "cnn.add(tf.keras.layers.MaxPool2D(pool_size=2, strides=2))"
      ],
      "metadata": {
        "id": "ahTAu5exMimF"
      },
      "execution_count": 12,
      "outputs": []
    },
    {
      "cell_type": "code",
      "source": [
        "cnn.add(tf.keras.layers.Flatten())"
      ],
      "metadata": {
        "id": "8Em8CG-tMk_o"
      },
      "execution_count": 13,
      "outputs": []
    },
    {
      "cell_type": "code",
      "source": [
        "cnn.add(tf.keras.layers.Dense(units=128, activation='relu'))"
      ],
      "metadata": {
        "id": "GoEvCw2bMn5h"
      },
      "execution_count": 14,
      "outputs": []
    },
    {
      "cell_type": "code",
      "source": [
        "cnn.add(tf.keras.layers.Dense(units=1, activation='sigmoid'))"
      ],
      "metadata": {
        "id": "AU5BOD6lMqmr"
      },
      "execution_count": 15,
      "outputs": []
    },
    {
      "cell_type": "code",
      "source": [
        "cnn.compile(optimizer = 'adam', loss = 'binary_crossentropy', metrics = ['accuracy'])"
      ],
      "metadata": {
        "id": "kN78PISRMtk-"
      },
      "execution_count": 16,
      "outputs": []
    },
    {
      "cell_type": "code",
      "source": [
        "cnn.fit(x = training_set, validation_data = test_set, epochs = 25)"
      ],
      "metadata": {
        "colab": {
          "base_uri": "https://localhost:8080/"
        },
        "id": "wpwZ4brbMxFe",
        "outputId": "cc614afa-2fa3-4962-91e8-4a4ae1352530"
      },
      "execution_count": 17,
      "outputs": [
        {
          "output_type": "stream",
          "name": "stdout",
          "text": [
            "Epoch 1/25\n",
            "1/1 [==============================] - 11s 11s/step - loss: 0.7099 - accuracy: 0.4545 - val_loss: 1.4222 - val_accuracy: 0.5000\n",
            "Epoch 2/25\n",
            "1/1 [==============================] - 0s 260ms/step - loss: 1.2329 - accuracy: 0.5455 - val_loss: 0.6855 - val_accuracy: 0.5000\n",
            "Epoch 3/25\n",
            "1/1 [==============================] - 0s 266ms/step - loss: 0.6345 - accuracy: 0.5455 - val_loss: 0.6646 - val_accuracy: 0.5000\n",
            "Epoch 4/25\n",
            "1/1 [==============================] - 0s 261ms/step - loss: 0.7048 - accuracy: 0.4545 - val_loss: 0.6487 - val_accuracy: 0.5000\n",
            "Epoch 5/25\n",
            "1/1 [==============================] - 0s 252ms/step - loss: 0.6942 - accuracy: 0.4545 - val_loss: 0.5841 - val_accuracy: 1.0000\n",
            "Epoch 6/25\n",
            "1/1 [==============================] - 0s 248ms/step - loss: 0.6156 - accuracy: 0.8182 - val_loss: 0.5848 - val_accuracy: 0.5000\n",
            "Epoch 7/25\n",
            "1/1 [==============================] - 0s 267ms/step - loss: 0.5922 - accuracy: 0.5455 - val_loss: 0.6231 - val_accuracy: 0.5000\n",
            "Epoch 8/25\n",
            "1/1 [==============================] - 0s 252ms/step - loss: 0.6112 - accuracy: 0.5455 - val_loss: 0.5531 - val_accuracy: 0.5000\n",
            "Epoch 9/25\n",
            "1/1 [==============================] - 0s 258ms/step - loss: 0.5515 - accuracy: 0.5455 - val_loss: 0.4788 - val_accuracy: 1.0000\n",
            "Epoch 10/25\n",
            "1/1 [==============================] - 0s 250ms/step - loss: 0.5073 - accuracy: 1.0000 - val_loss: 0.4358 - val_accuracy: 1.0000\n",
            "Epoch 11/25\n",
            "1/1 [==============================] - 0s 261ms/step - loss: 0.4914 - accuracy: 1.0000 - val_loss: 0.3939 - val_accuracy: 1.0000\n",
            "Epoch 12/25\n",
            "1/1 [==============================] - 0s 264ms/step - loss: 0.4629 - accuracy: 1.0000 - val_loss: 0.3523 - val_accuracy: 1.0000\n",
            "Epoch 13/25\n",
            "1/1 [==============================] - 0s 253ms/step - loss: 0.3951 - accuracy: 1.0000 - val_loss: 0.3386 - val_accuracy: 1.0000\n",
            "Epoch 14/25\n",
            "1/1 [==============================] - 0s 247ms/step - loss: 0.3677 - accuracy: 1.0000 - val_loss: 0.3056 - val_accuracy: 1.0000\n",
            "Epoch 15/25\n",
            "1/1 [==============================] - 0s 261ms/step - loss: 0.3303 - accuracy: 1.0000 - val_loss: 0.2460 - val_accuracy: 1.0000\n",
            "Epoch 16/25\n",
            "1/1 [==============================] - 0s 257ms/step - loss: 0.3066 - accuracy: 1.0000 - val_loss: 0.1998 - val_accuracy: 1.0000\n",
            "Epoch 17/25\n",
            "1/1 [==============================] - 0s 320ms/step - loss: 0.2708 - accuracy: 1.0000 - val_loss: 0.1644 - val_accuracy: 1.0000\n",
            "Epoch 18/25\n",
            "1/1 [==============================] - 0s 399ms/step - loss: 0.2158 - accuracy: 1.0000 - val_loss: 0.1412 - val_accuracy: 1.0000\n",
            "Epoch 19/25\n",
            "1/1 [==============================] - 0s 389ms/step - loss: 0.1810 - accuracy: 1.0000 - val_loss: 0.1089 - val_accuracy: 1.0000\n",
            "Epoch 20/25\n",
            "1/1 [==============================] - 0s 322ms/step - loss: 0.1434 - accuracy: 1.0000 - val_loss: 0.0799 - val_accuracy: 1.0000\n",
            "Epoch 21/25\n",
            "1/1 [==============================] - 0s 260ms/step - loss: 0.1066 - accuracy: 1.0000 - val_loss: 0.0597 - val_accuracy: 1.0000\n",
            "Epoch 22/25\n",
            "1/1 [==============================] - 0s 264ms/step - loss: 0.1051 - accuracy: 1.0000 - val_loss: 0.0618 - val_accuracy: 1.0000\n",
            "Epoch 23/25\n",
            "1/1 [==============================] - 0s 258ms/step - loss: 0.0876 - accuracy: 1.0000 - val_loss: 0.0444 - val_accuracy: 1.0000\n",
            "Epoch 24/25\n",
            "1/1 [==============================] - 0s 247ms/step - loss: 0.0599 - accuracy: 1.0000 - val_loss: 0.0263 - val_accuracy: 1.0000\n",
            "Epoch 25/25\n",
            "1/1 [==============================] - 0s 262ms/step - loss: 0.0511 - accuracy: 1.0000 - val_loss: 0.0189 - val_accuracy: 1.0000\n"
          ]
        },
        {
          "output_type": "execute_result",
          "data": {
            "text/plain": [
              "<keras.src.callbacks.History at 0x7933547c58d0>"
            ]
          },
          "metadata": {},
          "execution_count": 17
        }
      ]
    },
    {
      "cell_type": "code",
      "source": [
        "import numpy as np\n",
        "from keras.preprocessing import image\n",
        "\n",
        "test_image = tf.keras.utils.load_img('/content/classificationbinary-new/prediction/single image/2.jpeg',\n",
        "                            target_size = (64, 64))\n",
        "#test_image = tf.keras.utils.load_img(test_image)\n",
        "test_image = np.expand_dims(test_image, axis = 0)\n",
        "result = cnn.predict(test_image)\n",
        "training_set.class_indices\n",
        "if result[0][0] == 1:\n",
        "  prediction = 'sangeetha'\n",
        "else:\n",
        "  prediction = 'kavipriya'"
      ],
      "metadata": {
        "colab": {
          "base_uri": "https://localhost:8080/"
        },
        "id": "GJRkux2YM0Z4",
        "outputId": "9743d675-e2f1-490a-87ae-f49120324360"
      },
      "execution_count": 18,
      "outputs": [
        {
          "output_type": "stream",
          "name": "stdout",
          "text": [
            "1/1 [==============================] - 0s 157ms/step\n"
          ]
        }
      ]
    },
    {
      "cell_type": "code",
      "source": [
        "print(prediction)"
      ],
      "metadata": {
        "colab": {
          "base_uri": "https://localhost:8080/"
        },
        "id": "ij_dnKGXOnWO",
        "outputId": "7de8dc1f-baa5-4f7a-a485-38733699e12a"
      },
      "execution_count": 19,
      "outputs": [
        {
          "output_type": "stream",
          "name": "stdout",
          "text": [
            "sangeetha\n"
          ]
        }
      ]
    }
  ]
}